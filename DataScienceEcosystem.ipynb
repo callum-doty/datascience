{
  "metadata": {
    "kernelspec": {
      "name": "python",
      "display_name": "Python (Pyodide)",
      "language": "python"
    },
    "language_info": {
      "codemirror_mode": {
        "name": "python",
        "version": 3
      },
      "file_extension": ".py",
      "mimetype": "text/x-python",
      "name": "python",
      "nbconvert_exporter": "python",
      "pygments_lexer": "ipython3",
      "version": "3.8"
    }
  },
  "nbformat_minor": 4,
  "nbformat": 4,
  "cells": [
    {
      "cell_type": "markdown",
      "source": "# Data Science Tools and Ecosystem",
      "metadata": {}
    },
    {
      "cell_type": "markdown",
      "source": "#### In this notebook, Data Science Tools and Ecosystem are summarized.",
      "metadata": {}
    },
    {
      "cell_type": "markdown",
      "source": "###### Some of the popular languages that Data Scientists use are:",
      "metadata": {}
    },
    {
      "cell_type": "markdown",
      "source": "###### 1. Python",
      "metadata": {}
    },
    {
      "cell_type": "markdown",
      "source": "###### 2. R",
      "metadata": {}
    },
    {
      "cell_type": "markdown",
      "source": "###### 3. Javascript",
      "metadata": {}
    },
    {
      "cell_type": "markdown",
      "source": "# _________________________________________",
      "metadata": {}
    },
    {
      "cell_type": "markdown",
      "source": "###### Some of the commonly used libraries used by Data Scientists include:",
      "metadata": {}
    },
    {
      "cell_type": "markdown",
      "source": "###### 1. Pandas",
      "metadata": {}
    },
    {
      "cell_type": "markdown",
      "source": "###### 2. Matplotlib",
      "metadata": {}
    },
    {
      "cell_type": "markdown",
      "source": "###### 3. Scikit-Learn",
      "metadata": {}
    },
    {
      "cell_type": "markdown",
      "source": "# _________________________________________",
      "metadata": {}
    },
    {
      "cell_type": "code",
      "source": "import pandas as pd\ndf = pd.DataFrame({'Data Science Tools': ['Anaconda', 'RStudio', 'Jupyter Notebook']})\nprint(df)",
      "metadata": {
        "trusted": true
      },
      "outputs": [
        {
          "name": "stdout",
          "text": "  Data Science Tools\n0           Anaconda\n1            RStudio\n2   Jupyter Notebook\n",
          "output_type": "stream"
        }
      ],
      "execution_count": 4
    },
    {
      "cell_type": "markdown",
      "source": "# _________________________________________",
      "metadata": {}
    },
    {
      "cell_type": "markdown",
      "source": "### Below are a few examples of evaluating arithmetic expressions in Python",
      "metadata": {}
    },
    {
      "cell_type": "code",
      "source": "#This a simple arithmetic expression to mutiply then add integers#\n(3*4)+5",
      "metadata": {
        "trusted": true
      },
      "outputs": [
        {
          "execution_count": 6,
          "output_type": "execute_result",
          "data": {
            "text/plain": "17"
          },
          "metadata": {}
        }
      ],
      "execution_count": 6
    },
    {
      "cell_type": "code",
      "source": "#This will convert 200 minutes to hours by diving by 60#\n200/60",
      "metadata": {
        "trusted": true
      },
      "outputs": [
        {
          "execution_count": 7,
          "output_type": "execute_result",
          "data": {
            "text/plain": "3.3333333333333335"
          },
          "metadata": {}
        }
      ],
      "execution_count": 7
    },
    {
      "cell_type": "markdown",
      "source": "# _________________________________________",
      "metadata": {}
    },
    {
      "cell_type": "markdown",
      "source": "### **Objectives:**\n- Learn python\n- Learn R\n- Learn Jupyter Notebook\n- Learn RStudio",
      "metadata": {}
    },
    {
      "cell_type": "markdown",
      "source": "# _________________________________________",
      "metadata": {}
    },
    {
      "cell_type": "markdown",
      "source": "## Author:",
      "metadata": {}
    },
    {
      "cell_type": "markdown",
      "source": "###### Callum Doty",
      "metadata": {}
    },
    {
      "cell_type": "code",
      "source": "",
      "metadata": {
        "trusted": true
      },
      "outputs": [],
      "execution_count": null
    }
  ]
}